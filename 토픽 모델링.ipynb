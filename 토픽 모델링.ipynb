{
 "cells": [
  {
   "cell_type": "markdown",
   "metadata": {},
   "source": [
    "# 3. 토픽 모델링"
   ]
  },
  {
   "cell_type": "markdown",
   "metadata": {},
   "source": [
    "## 3.1. LDA(Latent Dirichlet Allocation)"
   ]
  },
  {
   "cell_type": "code",
   "execution_count": 7,
   "metadata": {},
   "outputs": [
    {
     "name": "stderr",
     "output_type": "stream",
     "text": [
      "Invalid requirement: '#'\n",
      "\n"
     ]
    }
   ],
   "source": [
    "!pip install gensim   # LDA 제공"
   ]
  },
  {
   "cell_type": "code",
   "execution_count": 8,
   "metadata": {},
   "outputs": [],
   "source": [
    "from nltk.corpus import stopwords\n",
    "from nltk.stem.porter import PorterStemmer  # 어간 추출\n",
    "from gensim import corpora, models\n",
    "import gensim\n",
    "from nltk.tokenize import RegexpTokenizer  # 정규표현식을 사용해서 단어 토큰화 수행"
   ]
  },
  {
   "cell_type": "code",
   "execution_count": 9,
   "metadata": {},
   "outputs": [],
   "source": [
    "tokenizer = RegexpTokenizer('[\\w]+')  # \\w : 단어 영문자+숫자+_(밑줄) [0-9a-zA-Z_]"
   ]
  },
  {
   "cell_type": "code",
   "execution_count": 10,
   "metadata": {},
   "outputs": [],
   "source": [
    "stop_words = stopwords.words('english')"
   ]
  },
  {
   "cell_type": "code",
   "execution_count": 11,
   "metadata": {},
   "outputs": [],
   "source": [
    "p_stemmer = PorterStemmer()  # 어간 추출"
   ]
  },
  {
   "cell_type": "code",
   "execution_count": 12,
   "metadata": {},
   "outputs": [],
   "source": [
    "doc_a = \"Brocolli is good to eat. My brother likes to eat good brocolli, but not my mother.\"\n",
    "doc_b = \"My mother spends a lot of time driving my brother around to baseball practice.\"\n",
    "doc_c = \"Some health experts suggest that driving may cause increased tension and blood pressure.\"\n",
    "doc_d = \"I often feel pressure to perform well at school, but my mother never seems to drive my brother to do better.\"\n",
    "doc_e = \"Health professionals say that brocolli is good for your heath.\"\n",
    "doc_f = \"Big data is a term used to refer to data sets that are too large or complex for traditional data-processing application software to adequately deal with.\"\n",
    "doc_g = \"Data with many cases offer greater statistical power, while data with higher complexity may lead to a higher false discovery rate.\"\n",
    "doc_h = \"Big data was originally associated with three key concepts: volume, variety, and velocity.\"\n",
    "doc_i = \"A 2016 definition states that 'Big data represents the information assets characterized by such a high volume, velocity, and variety to require specific technology and analytical methods for its transformation into value'.\"\n",
    "doc_j = \"Data must be processed with advanced tools to reveal meaningful information.\""
   ]
  },
  {
   "cell_type": "code",
   "execution_count": 13,
   "metadata": {},
   "outputs": [],
   "source": [
    "doc_set = [doc_a, doc_b, doc_c, doc_d, doc_e, doc_f, doc_g, doc_h, doc_i, doc_j]"
   ]
  },
  {
   "cell_type": "code",
   "execution_count": 14,
   "metadata": {},
   "outputs": [],
   "source": [
    "texts = []  # 텍스트 전처리"
   ]
  },
  {
   "cell_type": "code",
   "execution_count": 15,
   "metadata": {},
   "outputs": [],
   "source": [
    "for w in doc_set:\n",
    "    raw = w.lower()  # 모든 문자 소문자로 변환\n",
    "    tokens = tokenizer.tokenize(raw)  # 단어 토큰화\n",
    "    stopped_tokens = [i for i in tokens if not i in stop_words]  # 불용어 제거\n",
    "    stemmed_tokens = [p_stemmer.stem(i) for i in stopped_tokens]  # 어간 추출\n",
    "    texts.append(stemmed_tokens)"
   ]
  },
  {
   "cell_type": "code",
   "execution_count": 16,
   "metadata": {
    "scrolled": true
   },
   "outputs": [
    {
     "data": {
      "text/plain": [
       "{0: 'brocolli',\n",
       " 1: 'brother',\n",
       " 2: 'eat',\n",
       " 3: 'good',\n",
       " 4: 'like',\n",
       " 5: 'mother',\n",
       " 6: 'around',\n",
       " 7: 'basebal',\n",
       " 8: 'drive',\n",
       " 9: 'lot',\n",
       " 10: 'practic',\n",
       " 11: 'spend',\n",
       " 12: 'time',\n",
       " 13: 'blood',\n",
       " 14: 'caus',\n",
       " 15: 'expert',\n",
       " 16: 'health',\n",
       " 17: 'increas',\n",
       " 18: 'may',\n",
       " 19: 'pressur',\n",
       " 20: 'suggest',\n",
       " 21: 'tension',\n",
       " 22: 'better',\n",
       " 23: 'feel',\n",
       " 24: 'never',\n",
       " 25: 'often',\n",
       " 26: 'perform',\n",
       " 27: 'school',\n",
       " 28: 'seem',\n",
       " 29: 'well',\n",
       " 30: 'heath',\n",
       " 31: 'profession',\n",
       " 32: 'say',\n",
       " 33: 'adequ',\n",
       " 34: 'applic',\n",
       " 35: 'big',\n",
       " 36: 'complex',\n",
       " 37: 'data',\n",
       " 38: 'deal',\n",
       " 39: 'larg',\n",
       " 40: 'process',\n",
       " 41: 'refer',\n",
       " 42: 'set',\n",
       " 43: 'softwar',\n",
       " 44: 'term',\n",
       " 45: 'tradit',\n",
       " 46: 'use',\n",
       " 47: 'case',\n",
       " 48: 'discoveri',\n",
       " 49: 'fals',\n",
       " 50: 'greater',\n",
       " 51: 'higher',\n",
       " 52: 'lead',\n",
       " 53: 'mani',\n",
       " 54: 'offer',\n",
       " 55: 'power',\n",
       " 56: 'rate',\n",
       " 57: 'statist',\n",
       " 58: 'associ',\n",
       " 59: 'concept',\n",
       " 60: 'key',\n",
       " 61: 'origin',\n",
       " 62: 'three',\n",
       " 63: 'varieti',\n",
       " 64: 'veloc',\n",
       " 65: 'volum',\n",
       " 66: '2016',\n",
       " 67: 'analyt',\n",
       " 68: 'asset',\n",
       " 69: 'character',\n",
       " 70: 'definit',\n",
       " 71: 'high',\n",
       " 72: 'inform',\n",
       " 73: 'method',\n",
       " 74: 'repres',\n",
       " 75: 'requir',\n",
       " 76: 'specif',\n",
       " 77: 'state',\n",
       " 78: 'technolog',\n",
       " 79: 'transform',\n",
       " 80: 'valu',\n",
       " 81: 'advanc',\n",
       " 82: 'meaning',\n",
       " 83: 'must',\n",
       " 84: 'reveal',\n",
       " 85: 'tool'}"
      ]
     },
     "execution_count": 16,
     "metadata": {},
     "output_type": "execute_result"
    }
   ],
   "source": [
    "dictionary = corpora.Dictionary(texts)  # 단어 Dictionary 변환\n",
    "dict(dictionary)"
   ]
  },
  {
   "cell_type": "code",
   "execution_count": 17,
   "metadata": {
    "scrolled": true
   },
   "outputs": [
    {
     "data": {
      "text/plain": [
       "[[(0, 2), (1, 1), (2, 2), (3, 2), (4, 1), (5, 1)],\n",
       " [(1, 1), (5, 1), (6, 1), (7, 1), (8, 1), (9, 1), (10, 1), (11, 1), (12, 1)],\n",
       " [(8, 1),\n",
       "  (13, 1),\n",
       "  (14, 1),\n",
       "  (15, 1),\n",
       "  (16, 1),\n",
       "  (17, 1),\n",
       "  (18, 1),\n",
       "  (19, 1),\n",
       "  (20, 1),\n",
       "  (21, 1)],\n",
       " [(1, 1),\n",
       "  (5, 1),\n",
       "  (8, 1),\n",
       "  (19, 1),\n",
       "  (22, 1),\n",
       "  (23, 1),\n",
       "  (24, 1),\n",
       "  (25, 1),\n",
       "  (26, 1),\n",
       "  (27, 1),\n",
       "  (28, 1),\n",
       "  (29, 1)],\n",
       " [(0, 1), (3, 1), (16, 1), (30, 1), (31, 1), (32, 1)],\n",
       " [(33, 1),\n",
       "  (34, 1),\n",
       "  (35, 1),\n",
       "  (36, 1),\n",
       "  (37, 3),\n",
       "  (38, 1),\n",
       "  (39, 1),\n",
       "  (40, 1),\n",
       "  (41, 1),\n",
       "  (42, 1),\n",
       "  (43, 1),\n",
       "  (44, 1),\n",
       "  (45, 1),\n",
       "  (46, 1)],\n",
       " [(18, 1),\n",
       "  (36, 1),\n",
       "  (37, 2),\n",
       "  (47, 1),\n",
       "  (48, 1),\n",
       "  (49, 1),\n",
       "  (50, 1),\n",
       "  (51, 2),\n",
       "  (52, 1),\n",
       "  (53, 1),\n",
       "  (54, 1),\n",
       "  (55, 1),\n",
       "  (56, 1),\n",
       "  (57, 1)],\n",
       " [(35, 1),\n",
       "  (37, 1),\n",
       "  (58, 1),\n",
       "  (59, 1),\n",
       "  (60, 1),\n",
       "  (61, 1),\n",
       "  (62, 1),\n",
       "  (63, 1),\n",
       "  (64, 1),\n",
       "  (65, 1)],\n",
       " [(35, 1),\n",
       "  (37, 1),\n",
       "  (63, 1),\n",
       "  (64, 1),\n",
       "  (65, 1),\n",
       "  (66, 1),\n",
       "  (67, 1),\n",
       "  (68, 1),\n",
       "  (69, 1),\n",
       "  (70, 1),\n",
       "  (71, 1),\n",
       "  (72, 1),\n",
       "  (73, 1),\n",
       "  (74, 1),\n",
       "  (75, 1),\n",
       "  (76, 1),\n",
       "  (77, 1),\n",
       "  (78, 1),\n",
       "  (79, 1),\n",
       "  (80, 1)],\n",
       " [(37, 1), (40, 1), (72, 1), (81, 1), (82, 1), (83, 1), (84, 1), (85, 1)]]"
      ]
     },
     "execution_count": 17,
     "metadata": {},
     "output_type": "execute_result"
    }
   ],
   "source": [
    "corpus = [dictionary.doc2bow(text) for text in texts]  # 말뭉치 변환\n",
    "corpus"
   ]
  },
  {
   "cell_type": "code",
   "execution_count": 49,
   "metadata": {},
   "outputs": [],
   "source": [
    "ldamodel = gensim.models.ldamodel.LdaModel(corpus, num_topics = 3, id2word = dictionary)  # Topic 개수 = 3"
   ]
  },
  {
   "cell_type": "code",
   "execution_count": 50,
   "metadata": {},
   "outputs": [
    {
     "data": {
      "text/plain": [
       "[(0,\n",
       "  '0.043*\"data\" + 0.032*\"big\" + 0.032*\"veloc\" + 0.031*\"volum\" + 0.031*\"varieti\"'),\n",
       " (1,\n",
       "  '0.033*\"brocolli\" + 0.033*\"mother\" + 0.033*\"good\" + 0.033*\"brother\" + 0.033*\"eat\"'),\n",
       " (2,\n",
       "  '0.063*\"data\" + 0.030*\"process\" + 0.025*\"complex\" + 0.023*\"brother\" + 0.022*\"drive\"')]"
      ]
     },
     "execution_count": 50,
     "metadata": {},
     "output_type": "execute_result"
    }
   ],
   "source": [
    "ldamodel.print_topics(num_words = 5)  # 상위 5개 단어, 토픽에 대한 해당 단어의 비중"
   ]
  },
  {
   "cell_type": "code",
   "execution_count": 51,
   "metadata": {},
   "outputs": [
    {
     "data": {
      "text/plain": [
       "[(0, 0.03442131), (1, 0.9314954), (2, 0.034083232)]"
      ]
     },
     "execution_count": 51,
     "metadata": {},
     "output_type": "execute_result"
    }
   ],
   "source": [
    "ldamodel.get_document_topics(corpus)[0]  # 0번째 문서에 토픽 1~3의 분포"
   ]
  },
  {
   "cell_type": "markdown",
   "metadata": {},
   "source": [
    "## 3.2. LDA 토픽 개수 지정"
   ]
  },
  {
   "cell_type": "code",
   "execution_count": 21,
   "metadata": {},
   "outputs": [],
   "source": [
    "from gensim.models import CoherenceModel  # Topic Coherence 연산 제공"
   ]
  },
  {
   "cell_type": "code",
   "execution_count": 52,
   "metadata": {},
   "outputs": [
    {
     "name": "stdout",
     "output_type": "stream",
     "text": [
      "\n",
      "Perplexity:  -4.992406738729312\n",
      "\n",
      "Coherence Score:  0.4349396849471841\n"
     ]
    }
   ],
   "source": [
    "# Perplexity\n",
    "print('\\nPerplexity: ', ldamodel.log_perplexity(corpus))\n",
    "\n",
    "# Topic Coherence\n",
    "coherence_model_lda = CoherenceModel(model = ldamodel, texts = texts, dictionary = dictionary, topn = 10)  # 상위 10개 단어로 연산\n",
    "coherence_lda = coherence_model_lda.get_coherence()\n",
    "print('\\nCoherence Score: ', coherence_lda)"
   ]
  },
  {
   "cell_type": "code",
   "execution_count": 23,
   "metadata": {},
   "outputs": [],
   "source": [
    "import matplotlib.pyplot as plt"
   ]
  },
  {
   "cell_type": "markdown",
   "metadata": {},
   "source": [
    "#### Perplexity"
   ]
  },
  {
   "cell_type": "code",
   "execution_count": 32,
   "metadata": {},
   "outputs": [],
   "source": [
    "perplexity_values = []\n",
    "\n",
    "for i in range(2, 10):\n",
    "    ldamodel = gensim.models.ldamodel.LdaModel(corpus, num_topics = i, id2word = dictionary)\n",
    "    perplexity_values.append(ldamodel.log_perplexity(corpus))"
   ]
  },
  {
   "cell_type": "code",
   "execution_count": 33,
   "metadata": {},
   "outputs": [
    {
     "data": {
      "image/png": "[encoded data removed]",
      "text/plain": [
       "<Figure size 432x288 with 1 Axes>"
      ]
     },
     "metadata": {
      "needs_background": "light"
     },
     "output_type": "display_data"
    }
   ],
   "source": [
    "x = range(2, 10)\n",
    "plt.plot(x, perplexity_values)\n",
    "plt.xlabel(\"Number of topics\")\n",
    "plt.ylabel(\"Perplexity score\")\n",
    "plt.show()"
   ]
  },
  {
   "cell_type": "markdown",
   "metadata": {},
   "source": [
    "#### Topic Coherence"
   ]
  },
  {
   "cell_type": "code",
   "execution_count": 36,
   "metadata": {},
   "outputs": [],
   "source": [
    "coherence_values = []\n",
    "\n",
    "for i in range(2, 10):\n",
    "    ldamodel = gensim.models.ldamodel.LdaModel(corpus, num_topics = i, id2word = dictionary)\n",
    "    coherence_model_lda = CoherenceModel(model = ldamodel, texts = texts, dictionary = dictionary, topn = 10)\n",
    "    coherence_lda = coherence_model_lda.get_coherence()\n",
    "    coherence_values.append(coherence_lda)"
   ]
  },
  {
   "cell_type": "code",
   "execution_count": 37,
   "metadata": {
    "scrolled": true
   },
   "outputs": [
    {
     "data": {
      "image/png": "[encoded data removed]",
      "text/plain": [
       "<Figure size 432x288 with 1 Axes>"
      ]
     },
     "metadata": {
      "needs_background": "light"
     },
     "output_type": "display_data"
    }
   ],
   "source": [
    "x = range(2, 10)\n",
    "plt.plot(x, coherence_values)\n",
    "plt.xlabel(\"Number of topics\")\n",
    "plt.ylabel(\"coherence score\")\n",
    "plt.show()"
   ]
  },
  {
   "cell_type": "markdown",
   "metadata": {},
   "source": [
    "## 추가 : LDA 시각화"
   ]
  },
  {
   "cell_type": "code",
   "execution_count": 41,
   "metadata": {
    "scrolled": true
   },
   "outputs": [
    {
     "name": "stdout",
     "output_type": "stream",
     "text": [
      "Requirement already satisfied: pyLDAvis in c:\\users\\sojinsoo\\anaconda3\\lib\\site-packages (2.1.2)\n",
      "Requirement already satisfied: pytest in c:\\users\\sojinsoo\\anaconda3\\lib\\site-packages (from pyLDAvis) (4.3.1)\n",
      "Requirement already satisfied: numexpr in c:\\users\\sojinsoo\\anaconda3\\lib\\site-packages (from pyLDAvis) (2.6.9)\n",
      "Requirement already satisfied: numpy>=1.9.2 in c:\\users\\sojinsoo\\anaconda3\\lib\\site-packages (from pyLDAvis) (1.16.2)\n",
      "Requirement already satisfied: funcy in c:\\users\\sojinsoo\\anaconda3\\lib\\site-packages (from pyLDAvis) (1.13)\n",
      "Requirement already satisfied: joblib>=0.8.4 in c:\\users\\sojinsoo\\anaconda3\\lib\\site-packages (from pyLDAvis) (0.13.2)\n",
      "Requirement already satisfied: jinja2>=2.7.2 in c:\\users\\sojinsoo\\anaconda3\\lib\\site-packages (from pyLDAvis) (2.10)\n",
      "Requirement already satisfied: wheel>=0.23.0 in c:\\users\\sojinsoo\\anaconda3\\lib\\site-packages (from pyLDAvis) (0.33.1)\n",
      "Requirement already satisfied: future in c:\\users\\sojinsoo\\anaconda3\\lib\\site-packages (from pyLDAvis) (0.17.1)\n",
      "Requirement already satisfied: scipy>=0.18.0 in c:\\users\\sojinsoo\\anaconda3\\lib\\site-packages (from pyLDAvis) (1.2.1)\n",
      "Requirement already satisfied: pandas>=0.17.0 in c:\\users\\sojinsoo\\anaconda3\\lib\\site-packages (from pyLDAvis) (0.24.2)\n",
      "Requirement already satisfied: py>=1.5.0 in c:\\users\\sojinsoo\\anaconda3\\lib\\site-packages (from pytest->pyLDAvis) (1.8.0)\n",
      "Requirement already satisfied: six>=1.10.0 in c:\\users\\sojinsoo\\anaconda3\\lib\\site-packages (from pytest->pyLDAvis) (1.12.0)\n",
      "Requirement already satisfied: setuptools in c:\\users\\sojinsoo\\anaconda3\\lib\\site-packages (from pytest->pyLDAvis) (40.8.0)\n",
      "Requirement already satisfied: attrs>=17.4.0 in c:\\users\\sojinsoo\\anaconda3\\lib\\site-packages (from pytest->pyLDAvis) (19.1.0)\n",
      "Requirement already satisfied: atomicwrites>=1.0 in c:\\users\\sojinsoo\\anaconda3\\lib\\site-packages (from pytest->pyLDAvis) (1.3.0)\n",
      "Requirement already satisfied: pluggy>=0.7 in c:\\users\\sojinsoo\\anaconda3\\lib\\site-packages (from pytest->pyLDAvis) (0.9.0)\n",
      "Requirement already satisfied: more-itertools>=4.0.0 in c:\\users\\sojinsoo\\anaconda3\\lib\\site-packages (from pytest->pyLDAvis) (6.0.0)\n",
      "Requirement already satisfied: colorama in c:\\users\\sojinsoo\\anaconda3\\lib\\site-packages (from pytest->pyLDAvis) (0.4.1)\n",
      "Requirement already satisfied: MarkupSafe>=0.23 in c:\\users\\sojinsoo\\anaconda3\\lib\\site-packages (from jinja2>=2.7.2->pyLDAvis) (1.1.1)\n",
      "Requirement already satisfied: pytz>=2011k in c:\\users\\sojinsoo\\anaconda3\\lib\\site-packages (from pandas>=0.17.0->pyLDAvis) (2018.9)\n",
      "Requirement already satisfied: python-dateutil>=2.5.0 in c:\\users\\sojinsoo\\anaconda3\\lib\\site-packages (from pandas>=0.17.0->pyLDAvis) (2.8.0)\n"
     ]
    }
   ],
   "source": [
    "!pip install pyLDAvis"
   ]
  },
  {
   "cell_type": "code",
   "execution_count": 42,
   "metadata": {},
   "outputs": [],
   "source": [
    "import pyLDAvis.gensim  # LDA 시각화\n",
    "from gensim import corpora, models\n",
    "import gensim"
   ]
  },
  {
   "cell_type": "code",
   "execution_count": 45,
   "metadata": {},
   "outputs": [],
   "source": [
    "ldamodel = gensim.models.ldamodel.LdaModel(corpus, num_topics = 3, id2word = dictionary)  # Topic 개수 = 3"
   ]
  },
  {
   "cell_type": "code",
   "execution_count": 53,
   "metadata": {
    "scrolled": false
   },
   "outputs": [
    {
     "name": "stderr",
     "output_type": "stream",
     "text": [
      "C:\\Users\\SOJINSOO\\Anaconda3\\lib\\site-packages\\pyLDAvis\\_prepare.py:257: FutureWarning: Sorting because non-concatenation axis is not aligned. A future version\n",
      "of pandas will change to not sort by default.\n",
      "\n",
      "To accept the future behavior, pass 'sort=False'.\n",
      "\n",
      "To retain the current behavior and silence the warning, pass 'sort=True'.\n",
      "\n",
      "  return pd.concat([default_term_info] + list(topic_dfs))\n"
     ]
    },
    {
     "data": {
      "text/html": [
       "\n",
       "<link rel=\"stylesheet\" type=\"text/css\" href=\"https://cdn.rawgit.com/bmabey/pyLDAvis/files/ldavis.v1.0.0.css\">\n",
       "\n",
       "\n",
       "<div id=\"ldavis_el1219219280487068089682269260\"></div>\n",
       "<script type=\"text/javascript\">\n",
       "\n",
       "var ldavis_el1219219280487068089682269260_data = {\"mdsDat\": {\"x\": [0.06256980950535211, -0.08257662973993582, 0.020006820234583694], \"y\": [-0.04229246277667479, -0.017547602852556663, 0.05984006562923142], \"topics\": [1, 2, 3], \"cluster\": [1, 1, 1], \"Freq\": [39.97073745727539, 37.338645935058594, 22.690624237060547]}, \"tinfo\": {\"Category\": [\"Default\", \"Default\", \"Default\", \"Default\", \"Default\", \"Default\", \"Default\", \"Default\", \"Default\", \"Default\", \"Default\", \"Default\", \"Default\", \"Default\", \"Default\", \"Default\", \"Default\", \"Default\", \"Default\", \"Default\", \"Default\", \"Default\", \"Default\", \"Default\", \"Default\", \"Default\", \"Default\", \"Default\", \"Default\", \"Default\", \"Topic1\", \"Topic1\", \"Topic1\", \"Topic1\", \"Topic1\", \"Topic1\", \"Topic1\", \"Topic1\", \"Topic1\", \"Topic1\", \"Topic1\", \"Topic1\", \"Topic1\", \"Topic1\", \"Topic1\", \"Topic1\", \"Topic1\", \"Topic1\", \"Topic1\", \"Topic1\", \"Topic1\", \"Topic1\", \"Topic1\", \"Topic1\", \"Topic1\", \"Topic1\", \"Topic1\", \"Topic1\", \"Topic1\", \"Topic1\", \"Topic1\", \"Topic1\", \"Topic2\", \"Topic2\", \"Topic2\", \"Topic2\", \"Topic2\", \"Topic2\", \"Topic2\", \"Topic2\", \"Topic2\", \"Topic2\", \"Topic2\", \"Topic2\", \"Topic2\", \"Topic2\", \"Topic2\", \"Topic2\", \"Topic2\", \"Topic2\", \"Topic2\", \"Topic2\", \"Topic2\", \"Topic2\", \"Topic2\", \"Topic2\", \"Topic2\", \"Topic2\", \"Topic2\", \"Topic2\", \"Topic2\", \"Topic2\", \"Topic2\", \"Topic2\", \"Topic2\", \"Topic3\", \"Topic3\", \"Topic3\", \"Topic3\", \"Topic3\", \"Topic3\", \"Topic3\", \"Topic3\", \"Topic3\", \"Topic3\", \"Topic3\", \"Topic3\", \"Topic3\", \"Topic3\", \"Topic3\", \"Topic3\", \"Topic3\", \"Topic3\", \"Topic3\", \"Topic3\", \"Topic3\", \"Topic3\", \"Topic3\", \"Topic3\", \"Topic3\", \"Topic3\", \"Topic3\", \"Topic3\", \"Topic3\", \"Topic3\", \"Topic3\", \"Topic3\"], \"Freq\": [4.0, 1.0, 2.0, 2.0, 2.0, 1.0, 1.0, 1.0, 1.0, 1.0, 1.0, 1.0, 1.0, 1.0, 1.0, 1.0, 1.0, 1.0, 1.0, 1.0, 1.0, 1.0, 1.0, 1.0, 1.0, 1.0, 2.0, 1.0, 1.0, 1.0, 1.5242114067077637, 0.8814469575881958, 0.8804194927215576, 0.8800505995750427, 0.8789049983024597, 0.8776689767837524, 0.8777207732200623, 0.8768934011459351, 0.8757511973381042, 0.8738902807235718, 1.2669569253921509, 1.3111172914505005, 1.2359851598739624, 1.5390759706497192, 1.5341635942459106, 0.7510976195335388, 0.7438615560531616, 0.7353193759918213, 0.7343261241912842, 1.5416141748428345, 1.5342148542404175, 0.7284607291221619, 0.7267000079154968, 0.7145726680755615, 0.7021389603614807, 1.3925303220748901, 0.698010265827179, 0.7119011282920837, 0.70848548412323, 0.6717709898948669, 1.407161831855774, 0.7372140288352966, 1.3664047718048096, 1.3617851734161377, 1.3589036464691162, 1.1687864065170288, 0.7867297530174255, 0.7852634787559509, 0.7847359776496887, 0.7844482064247131, 0.784613847732544, 0.7844108939170837, 0.7844508290290833, 0.7843732833862305, 0.7837920188903809, 0.7831752896308899, 0.7829269766807556, 0.782650351524353, 0.7829545736312866, 0.7826271057128906, 0.7826087474822998, 0.7792158126831055, 0.7782803773880005, 0.77596116065979, 0.7763730883598328, 0.7720674276351929, 0.7730423212051392, 0.772710919380188, 1.3895529508590698, 0.6410932540893555, 1.0029492378234863, 0.587358832359314, 1.8572558164596558, 0.7872151732444763, 0.7827674150466919, 0.5845778584480286, 0.5832571983337402, 0.5831572413444519, 0.5819116234779358, 0.5816370844841003, 0.5815207362174988, 0.5799230933189392, 0.579873263835907, 0.5777149796485901, 0.5751011967658997, 0.5746544003486633, 0.57175612449646, 0.569182276725769, 0.5682632327079773, 0.5676747560501099, 0.5633848905563354, 0.7787432074546814, 0.6699151396751404, 1.6657419204711914, 0.30132409930229187, 0.5738148093223572, 0.5904114842414856, 0.5936980843544006, 0.5886324048042297, 0.2815922796726227, 0.2791000008583069, 0.2894061207771301, 0.27497154474258423, 0.27146509289741516, 0.2682587504386902, 0.33486810326576233, 0.27672532200813293], \"Term\": [\"data\", \"process\", \"big\", \"brother\", \"mother\", \"veloc\", \"volum\", \"eat\", \"varieti\", \"basebal\", \"around\", \"practic\", \"spend\", \"lot\", \"time\", \"deal\", \"softwar\", \"refer\", \"applic\", \"adequ\", \"tradit\", \"term\", \"larg\", \"set\", \"complex\", \"use\", \"drive\", \"higher\", \"inform\", \"pressur\", \"eat\", \"better\", \"school\", \"often\", \"well\", \"perform\", \"seem\", \"never\", \"feel\", \"like\", \"higher\", \"pressur\", \"may\", \"mother\", \"brother\", \"lead\", \"offer\", \"mani\", \"greater\", \"brocolli\", \"good\", \"power\", \"fals\", \"statist\", \"discoveri\", \"drive\", \"rate\", \"blood\", \"expert\", \"case\", \"data\", \"complex\", \"veloc\", \"volum\", \"varieti\", \"inform\", \"method\", \"character\", \"2016\", \"technolog\", \"repres\", \"requir\", \"state\", \"definit\", \"analyt\", \"specif\", \"valu\", \"key\", \"asset\", \"transform\", \"high\", \"concept\", \"say\", \"heath\", \"origin\", \"profession\", \"three\", \"associ\", \"big\", \"tool\", \"health\", \"advanc\", \"data\", \"good\", \"brocolli\", \"basebal\", \"around\", \"practic\", \"spend\", \"lot\", \"time\", \"deal\", \"softwar\", \"refer\", \"applic\", \"adequ\", \"tradit\", \"term\", \"larg\", \"set\", \"use\", \"process\", \"complex\", \"data\", \"must\", \"big\", \"drive\", \"brother\", \"mother\", \"meaning\", \"advanc\", \"case\", \"reveal\", \"rate\", \"discoveri\", \"higher\", \"inform\"], \"Total\": [4.0, 1.0, 2.0, 2.0, 2.0, 1.0, 1.0, 1.0, 1.0, 1.0, 1.0, 1.0, 1.0, 1.0, 1.0, 1.0, 1.0, 1.0, 1.0, 1.0, 1.0, 1.0, 1.0, 1.0, 1.0, 1.0, 2.0, 1.0, 1.0, 1.0, 1.8928629159927368, 1.231602430343628, 1.2313812971115112, 1.2315082550048828, 1.2311242818832397, 1.23077392578125, 1.2309455871582031, 1.2307008504867554, 1.2303526401519775, 1.2301604747772217, 1.8044016361236572, 1.8699963092803955, 1.8290753364562988, 2.34150767326355, 2.339256763458252, 1.188403606414795, 1.1857796907424927, 1.183241605758667, 1.182809829711914, 2.4861526489257812, 2.4848029613494873, 1.1809630393981934, 1.1801059246063232, 1.176339864730835, 1.1722654104232788, 2.325029134750366, 1.1707350015640259, 1.2130573987960815, 1.2118436098098755, 1.1618249416351318, 4.930159568786621, 1.6336700916290283, 1.7539710998535156, 1.7542786598205566, 1.753886103630066, 1.7160894870758057, 1.1608632802963257, 1.1609997749328613, 1.1608067750930786, 1.1607190370559692, 1.1609679460525513, 1.160809874534607, 1.1610721349716187, 1.1609727144241333, 1.1611517667770386, 1.1606993675231934, 1.1607604026794434, 1.160544514656067, 1.161165475845337, 1.1610606908798218, 1.1611064672470093, 1.1607474088668823, 1.1602987051010132, 1.159853219985962, 1.1609519720077515, 1.1595492362976074, 1.1611369848251343, 1.1608195304870605, 2.2060353755950928, 1.1366890668869019, 1.7968919277191162, 1.119988203048706, 4.930159568786621, 2.4848029613494873, 2.4861526489257812, 1.0138119459152222, 1.0142697095870972, 1.0143505334854126, 1.0147944688796997, 1.0149329900741577, 1.0150372982025146, 1.0152252912521362, 1.0152039527893066, 1.0160255432128906, 1.017143964767456, 1.0171239376068115, 1.0183837413787842, 1.019229769706726, 1.0195060968399048, 1.019606351852417, 1.021252155303955, 1.547222375869751, 1.6336700916290283, 4.930159568786621, 1.1145838499069214, 2.2060353755950928, 2.325029134750366, 2.339256763458252, 2.34150767326355, 1.1207599639892578, 1.119988203048706, 1.1618249416351318, 1.1225754022598267, 1.1707350015640259, 1.1722654104232788, 1.8044016361236572, 1.7160894870758057], \"loglift\": [30.0, 29.0, 28.0, 27.0, 26.0, 25.0, 24.0, 23.0, 22.0, 21.0, 20.0, 19.0, 18.0, 17.0, 16.0, 15.0, 14.0, 13.0, 12.0, 11.0, 10.0, 9.0, 8.0, 7.0, 6.0, 5.0, 4.0, 3.0, 2.0, 1.0, 0.7003999948501587, 0.5824999809265137, 0.5814999938011169, 0.5809999704360962, 0.5799999833106995, 0.5788999795913696, 0.5788000226020813, 0.5781000256538391, 0.5770000219345093, 0.5751000046730042, 0.5633999705314636, 0.5619999766349792, 0.5250999927520752, 0.4973999857902527, 0.4952000081539154, 0.45820000767707825, 0.4507000148296356, 0.44130000472068787, 0.44029998779296875, 0.4390999972820282, 0.43479999899864197, 0.43389999866485596, 0.43220001459121704, 0.41850000619888306, 0.40450000762939453, 0.4043999910354614, 0.39989998936653137, 0.3840999901294708, 0.38029998540878296, 0.3691999912261963, -0.3368000090122223, 0.12129999697208405, 0.7354000210762024, 0.7318999767303467, 0.7300000190734863, 0.6011000275611877, 0.5960999727249146, 0.5940999984741211, 0.5935999751091003, 0.5932999849319458, 0.5932999849319458, 0.5932000279426575, 0.5929999947547913, 0.5929999947547913, 0.5921000242233276, 0.59170001745224, 0.5914000272750854, 0.5911999940872192, 0.5910000205039978, 0.5906999707221985, 0.5906000137329102, 0.5866000056266785, 0.5857999920845032, 0.5831999778747559, 0.5827999711036682, 0.5784000158309937, 0.5782999992370605, 0.5781999826431274, 0.5228999853134155, 0.4124000072479248, 0.4020000100135803, 0.33970001339912415, 0.008899999782443047, -0.16429999470710754, -0.1704999953508377, 0.9326000213623047, 0.9298999905586243, 0.9297000169754028, 0.9271000027656555, 0.9265000224113464, 0.9261999726295471, 0.9232000112533569, 0.9232000112533569, 0.9186000227928162, 0.9129999876022339, 0.9122999906539917, 0.906000018119812, 0.900600016117096, 0.8986999988555908, 0.897599995136261, 0.8884000182151794, 0.7967000007629395, 0.5917999744415283, 0.39809998869895935, 0.17520000040531158, 0.13660000264644623, 0.11259999871253967, 0.1120000034570694, 0.10249999910593033, 0.10189999639987946, 0.09369999915361404, 0.093299999833107, 0.07649999856948853, 0.021700000390410423, 0.008500000461935997, -0.20100000500679016, -0.3416000008583069], \"logprob\": [30.0, 29.0, 28.0, 27.0, 26.0, 25.0, 24.0, 23.0, 22.0, 21.0, 20.0, 19.0, 18.0, 17.0, 16.0, 15.0, 14.0, 13.0, 12.0, 11.0, 10.0, 9.0, 8.0, 7.0, 6.0, 5.0, 4.0, 3.0, 2.0, 1.0, -3.41510009765625, -3.9628000259399414, -3.963900089263916, -3.9642999172210693, -3.96560001373291, -3.967099905014038, -3.9670000076293945, -3.967900037765503, -3.9691998958587646, -3.971400022506714, -3.599900007247925, -3.565700054168701, -3.6247000694274902, -3.405400037765503, -3.408600091934204, -4.122799873352051, -4.132500171661377, -4.144000053405762, -4.145400047302246, -3.403700113296509, -3.4084999561309814, -4.15339994430542, -4.155799865722656, -4.172599792480469, -4.190199851989746, -3.5053999423980713, -4.196100234985352, -4.176400184631348, -4.18120002746582, -4.234399795532227, -3.494999885559082, -4.14139986038208, -3.4563000202178955, -3.459700107574463, -3.4618000984191895, -3.612499952316284, -4.008299827575684, -4.010200023651123, -4.010900020599365, -4.011199951171875, -4.011000156402588, -4.011300086975098, -4.011199951171875, -4.011300086975098, -4.0121002197265625, -4.012800216674805, -4.013199806213379, -4.013500213623047, -4.0131001472473145, -4.013500213623047, -4.013599872589111, -4.017899990081787, -4.019100189208984, -4.02209997177124, -4.021599769592285, -4.027100086212158, -4.025899887084961, -4.026299953460693, -3.439500093460083, -4.2129998207092285, -3.765500068664551, -4.300600051879883, -3.1493000984191895, -4.007699966430664, -4.013400077819824, -3.8071999549865723, -3.809499979019165, -3.8097000122070312, -3.811800003051758, -3.812299966812134, -3.8125, -3.815200090408325, -3.8152999877929688, -3.819000005722046, -3.8236000537872314, -3.824399948120117, -3.829400062561035, -3.833899974822998, -3.8355000019073486, -3.8366000652313232, -3.8441998958587646, -3.520400047302246, -3.6710000038146973, -2.7600998878479004, -4.469900131225586, -3.8257999420166016, -3.797300100326538, -3.791800022125244, -3.800299882888794, -4.537700176239014, -4.546599864959717, -4.510300159454346, -4.561500072479248, -4.5742998123168945, -4.58620023727417, -4.3643999099731445, -4.555099964141846]}, \"token.table\": {\"Topic\": [2, 3, 2, 2, 3, 3, 2, 2, 3, 1, 2, 3, 1, 1, 2, 1, 3, 1, 2, 1, 3, 2, 1, 2, 3, 3, 2, 1, 1, 3, 1, 1, 1, 1, 1, 2, 1, 1, 2, 2, 2, 1, 2, 2, 3, 1, 1, 3, 1, 1, 2, 2, 1, 3, 2, 1, 1, 1, 2, 1, 1, 3, 1, 3, 2, 1, 3, 2, 2, 2, 2, 1, 1, 3, 3, 2, 3, 2, 1, 2, 3, 2, 3, 2, 3, 2, 3, 2, 2, 2, 2, 1], \"Freq\": [0.8614698052406311, 0.983164370059967, 0.8928665518760681, 0.8612138628959656, 0.983144998550415, 0.9859310388565063, 0.861203670501709, 0.8614603281021118, 0.9863762259483337, 0.8119503259658813, 0.45330187678337097, 0.45330187678337097, 0.8243632912635803, 0.8044558167457581, 0.40222790837287903, 0.8549724221229553, 0.42748621106147766, 0.860714852809906, 0.8613266348838806, 0.6121187210083008, 0.6121187210083008, 0.8615138530731201, 0.20283319056034088, 0.40566638112068176, 0.40566638112068176, 0.9850030541419983, 0.8613466620445251, 0.8530491590499878, 0.43010213971138, 0.43010213971138, 1.056600570678711, 0.8251889944076538, 0.8473815321922302, 0.8127751350402832, 0.8048927783966064, 0.4024463891983032, 0.8454444408416748, 0.5565164685249329, 0.5565164685249329, 0.8621780872344971, 0.8612474799156189, 0.5542003512382507, 0.5827202200889587, 0.8616644740104675, 0.9808670878410339, 0.8414649367332458, 0.8129020929336548, 0.9852867126464844, 0.8451359272003174, 0.5467243194580078, 0.89225172996521, 0.861427903175354, 0.8541505336761475, 0.42707526683807373, 0.8971958756446838, 0.812545120716095, 0.843326985836029, 0.8120124340057373, 0.861362099647522, 0.8124969005584717, 0.8467665314674377, 0.9858524799346924, 0.5347604155540466, 0.6463195085525513, 0.8624041080474854, 0.8541642427444458, 0.9842272400856018, 0.8613502383232117, 0.8614675402641296, 0.8908087611198425, 0.8618470430374146, 0.812096118927002, 0.8123835921287537, 0.9807706475257874, 0.9850237369537354, 0.8615495562553406, 0.9854212403297424, 0.861272931098938, 0.8500944375991821, 0.8615349531173706, 0.9811330437660217, 0.8612248301506042, 0.985185444355011, 0.8797480463981628, 0.9819481372833252, 0.8612813949584961, 0.9791901111602783, 0.8615042567253113, 0.5701624751091003, 0.5701348185539246, 0.5700348615646362, 0.8122656941413879], \"Term\": [\"2016\", \"adequ\", \"advanc\", \"analyt\", \"applic\", \"around\", \"asset\", \"associ\", \"basebal\", \"better\", \"big\", \"big\", \"blood\", \"brocolli\", \"brocolli\", \"brother\", \"brother\", \"case\", \"character\", \"complex\", \"complex\", \"concept\", \"data\", \"data\", \"data\", \"deal\", \"definit\", \"discoveri\", \"drive\", \"drive\", \"eat\", \"expert\", \"fals\", \"feel\", \"good\", \"good\", \"greater\", \"health\", \"health\", \"heath\", \"high\", \"higher\", \"inform\", \"key\", \"larg\", \"lead\", \"like\", \"lot\", \"mani\", \"may\", \"meaning\", \"method\", \"mother\", \"mother\", \"must\", \"never\", \"offer\", \"often\", \"origin\", \"perform\", \"power\", \"practic\", \"pressur\", \"process\", \"profession\", \"rate\", \"refer\", \"repres\", \"requir\", \"reveal\", \"say\", \"school\", \"seem\", \"set\", \"softwar\", \"specif\", \"spend\", \"state\", \"statist\", \"technolog\", \"term\", \"three\", \"time\", \"tool\", \"tradit\", \"transform\", \"use\", \"valu\", \"varieti\", \"veloc\", \"volum\", \"well\"]}, \"R\": 30, \"lambda.step\": 0.01, \"plot.opts\": {\"xlab\": \"PC1\", \"ylab\": \"PC2\"}, \"topic.order\": [2, 1, 3]};\n",
       "\n",
       "function LDAvis_load_lib(url, callback){\n",
       "  var s = document.createElement('script');\n",
       "  s.src = url;\n",
       "  s.async = true;\n",
       "  s.onreadystatechange = s.onload = callback;\n",
       "  s.onerror = function(){console.warn(\"failed to load library \" + url);};\n",
       "  document.getElementsByTagName(\"head\")[0].appendChild(s);\n",
       "}\n",
       "\n",
       "if(typeof(LDAvis) !== \"undefined\"){\n",
       "   // already loaded: just create the visualization\n",
       "   !function(LDAvis){\n",
       "       new LDAvis(\"#\" + \"ldavis_el1219219280487068089682269260\", ldavis_el1219219280487068089682269260_data);\n",
       "   }(LDAvis);\n",
       "}else if(typeof define === \"function\" && define.amd){\n",
       "   // require.js is available: use it to load d3/LDAvis\n",
       "   require.config({paths: {d3: \"https://cdnjs.cloudflare.com/ajax/libs/d3/3.5.5/d3.min\"}});\n",
       "   require([\"d3\"], function(d3){\n",
       "      window.d3 = d3;\n",
       "      LDAvis_load_lib(\"https://cdn.rawgit.com/bmabey/pyLDAvis/files/ldavis.v1.0.0.js\", function(){\n",
       "        new LDAvis(\"#\" + \"ldavis_el1219219280487068089682269260\", ldavis_el1219219280487068089682269260_data);\n",
       "      });\n",
       "    });\n",
       "}else{\n",
       "    // require.js not available: dynamically load d3 & LDAvis\n",
       "    LDAvis_load_lib(\"https://cdnjs.cloudflare.com/ajax/libs/d3/3.5.5/d3.min.js\", function(){\n",
       "         LDAvis_load_lib(\"https://cdn.rawgit.com/bmabey/pyLDAvis/files/ldavis.v1.0.0.js\", function(){\n",
       "                 new LDAvis(\"#\" + \"ldavis_el1219219280487068089682269260\", ldavis_el1219219280487068089682269260_data);\n",
       "            })\n",
       "         });\n",
       "}\n",
       "</script>"
      ],
      "text/plain": [
       "<IPython.core.display.HTML object>"
      ]
     },
     "execution_count": 53,
     "metadata": {},
     "output_type": "execute_result"
    }
   ],
   "source": [
    "pyLDAvis.enable_notebook()\n",
    "vis = pyLDAvis.gensim.prepare(ldamodel, corpus, dictionary)\n",
    "pyLDAvis.display(vis)"
   ]
  },
  {
   "cell_type": "markdown",
   "metadata": {},
   "source": [
    "## 추가 : Scikit-learn을 사용한 LDA 분석"
   ]
  },
  {
   "cell_type": "code",
   "execution_count": 54,
   "metadata": {},
   "outputs": [],
   "source": [
    "from sklearn.decomposition import LatentDirichletAllocation\n",
    "from sklearn.feature_extraction.text import CountVectorizer\n",
    "from sklearn.feature_extraction.text import TfidfVectorizer\n",
    "from sklearn.feature_extraction.text import TfidfTransformer"
   ]
  },
  {
   "cell_type": "code",
   "execution_count": 55,
   "metadata": {},
   "outputs": [],
   "source": [
    "def flatten(l):\n",
    "    flatList = []\n",
    "    \n",
    "    for elem in l:\n",
    "        if type(elem) == list:\n",
    "            for e in elem:\n",
    "                flatList.append(e)\n",
    "        else:\n",
    "            flatList.append(elem)\n",
    "\n",
    "    return flatList\n",
    "\n",
    "word_list = flatten(texts)"
   ]
  },
  {
   "cell_type": "code",
   "execution_count": 56,
   "metadata": {},
   "outputs": [
    {
     "name": "stdout",
     "output_type": "stream",
     "text": [
      "topic 0: data,higher,eat,expert,use,origin,never,greater,statist,tension,\n",
      "topic 1: brocolli,veloc,process,softwar,analyt,requir,around,fals,spend,say,\n",
      "topic 2: brother,big,inform,pressur,complex,health,valu,specif,advanc,state,\n",
      "topic 3: mother,varieti,volum,may,case,lot,deal,suggest,lead,definit,\n",
      "topic 4: drive,good,transform,tool,blood,seem,must,high,often,character,\n"
     ]
    },
    {
     "name": "stderr",
     "output_type": "stream",
     "text": [
      "C:\\Users\\SOJINSOO\\Anaconda3\\lib\\site-packages\\sklearn\\decomposition\\online_lda.py:314: DeprecationWarning: n_topics has been renamed to n_components in version 0.19 and will be removed in 0.21\n",
      "  DeprecationWarning)\n"
     ]
    }
   ],
   "source": [
    "vectorizer = TfidfVectorizer(lowercase=False)\n",
    "term_counts = vectorizer.fit_transform(word_list)\n",
    "\n",
    "vocabulary = vectorizer.get_feature_names()\n",
    "vocabulary\n",
    "\n",
    "topic_model = LatentDirichletAllocation(n_topics = 5)\n",
    "topic_model.fit(term_counts)\n",
    "\n",
    "topics = topic_model.components_\n",
    "\n",
    "for topic_id, weights in enumerate(topics):\n",
    "    print('topic %d' % topic_id, end = \": \")\n",
    "    pairs = []\n",
    "    for term_id, value in enumerate(weights):\n",
    "         pairs.append((abs(value), vocabulary[term_id]))\n",
    "    pairs.sort(key = lambda x: x[0], reverse = True)\n",
    "    for pair in pairs[:10]:\n",
    "        print(pair[1], end = \",\")\n",
    "    print()"
   ]
  }
 ],
 "metadata": {
  "kernelspec": {
   "display_name": "Python 3",
   "language": "python",
   "name": "python3"
  },
  "language_info": {
   "codemirror_mode": {
    "name": "ipython",
    "version": 3
   },
   "file_extension": ".py",
   "mimetype": "text/x-python",
   "name": "python",
   "nbconvert_exporter": "python",
   "pygments_lexer": "ipython3",
   "version": "3.7.3"
  }
 },
 "nbformat": 4,
 "nbformat_minor": 2
}
