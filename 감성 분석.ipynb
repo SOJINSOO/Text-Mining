{
 "cells": [
  {
   "cell_type": "markdown",
   "metadata": {},
   "source": [
    "# 4. 감성 분석"
   ]
  },
  {
   "cell_type": "markdown",
   "metadata": {},
   "source": [
    "## 4.1 사전 기반 감성 분석"
   ]
  },
  {
   "cell_type": "code",
   "execution_count": 2,
   "metadata": {},
   "outputs": [
    {
     "name": "stdout",
     "output_type": "stream",
     "text": [
      "Collecting Afinn\n",
      "  Downloading https://files.pythonhosted.org/packages/86/e5/ffbb7ee3cca21ac6d310ac01944fb163c20030b45bda25421d725d8a859a/afinn-0.1.tar.gz (52kB)\n",
      "Building wheels for collected packages: Afinn\n",
      "  Building wheel for Afinn (setup.py): started\n",
      "  Building wheel for Afinn (setup.py): finished with status 'done'\n",
      "  Stored in directory: C:\\Users\\SOJINSOO\\AppData\\Local\\pip\\Cache\\wheels\\b5\\1c\\de\\428301f3333ca509dcf20ff358690eb23a1388fbcbbde008b2\n",
      "Successfully built Afinn\n",
      "Installing collected packages: Afinn\n",
      "Successfully installed Afinn-0.1\n"
     ]
    }
   ],
   "source": [
    "!pip install Afinn"
   ]
  },
  {
   "cell_type": "code",
   "execution_count": 1,
   "metadata": {},
   "outputs": [],
   "source": [
    "import pandas as pd\n",
    "import glob\n",
    "from afinn import Afinn\n",
    "from nltk.corpus import stopwords \n",
    "from nltk.stem.porter import PorterStemmer\n",
    "from nltk.tokenize import RegexpTokenizer\n",
    "import numpy as np\n",
    "import matplotlib.pyplot as plt"
   ]
  },
  {
   "cell_type": "code",
   "execution_count": 2,
   "metadata": {},
   "outputs": [
    {
     "data": {
      "text/plain": [
       "16.0"
      ]
     },
     "execution_count": 2,
     "metadata": {},
     "output_type": "execute_result"
    }
   ],
   "source": [
    "pos_review=(glob.glob(r\"데이터\\aclImdb\\train\\pos\\\\*.txt\"))[10]\n",
    "\n",
    "\n",
    "f = open(pos_review, 'r')\n",
    "lines1 = f.readlines()[0] #해당 문자열 받아옴\n",
    "f.close()\n",
    "\n",
    "\n",
    "afinn = Afinn() #Afinn 감성사전 사용\n",
    "afinn.score(lines1)"
   ]
  },
  {
   "cell_type": "code",
   "execution_count": 3,
   "metadata": {},
   "outputs": [
    {
     "data": {
      "text/plain": [
       "'When I first read Armistead Maupins story I was taken in by the human drama displayed by Gabriel No one and those he cares about and loves. That being said, we have now been given the film version of an excellent story and are expected to see past the gloss of Hollywood...<br /><br />Writer Armistead Maupin and director Patrick Stettner have truly succeeded! <br /><br />With just the right amount of restraint Robin Williams captures the fragile essence of Gabriel and lets us see his struggle with issues of trust both in his personnel life(Jess) and the world around him(Donna).<br /><br />As we are introduced to the players in this drama we are reminded that nothing is ever as it seems and that the smallest event can change our lives irrevocably. The request to review a book written by a young man turns into a life changing event that helps Gabriel find the strength within himself to carry on and move forward.<br /><br />It\\'s to bad that most people will avoid this film. I only say that because the average American will probably think \"Robin Williams in a serious role? That didn\\'t work before!\" PLEASE GIVE THIS MOVIE A CHANCE! Robin Williams touches the darkness we all must find and go through in ourselves to be better people. Like his movie One Hour Photo he has stepped up as an actor and made another quality piece of art.<br /><br />Oh and before I forget, I believe Bobby Cannavale as Jess steals every scene he is in. He has the 1940\\'s leading man looks and screen presence. It\\'s this hacks opinion he could carry his own movie right now!!<br /><br />S~'"
      ]
     },
     "execution_count": 3,
     "metadata": {},
     "output_type": "execute_result"
    }
   ],
   "source": [
    "lines1"
   ]
  },
  {
   "cell_type": "markdown",
   "metadata": {},
   "source": [
    "Armistead Maupins 이야기를 처음 읽었을 때 가브리엘이 보여준 인간 드라마에 관심을 보였습니다. 우리는 이제 훌륭한 이야기의 영화 버전을 받았으며 할리우드의 과거를 볼 수있을 것으로 기대됩니다 ... <br /> <br /> Armistead Maupin 작가와 Patrick Stettner 감독은 정말 성공했습니다! <br /> <br /> 제한적인 양의 구속으로 로빈 윌리엄스는 가브리엘의 허약 한 본질을 포착하고 그의 인적 생활 (Jess)과 주변 세계 (Donna)에 대한 신뢰 문제와의 투쟁을 볼 수 있습니다. <br /> <br />이 드라마에서 플레이어들에게 소개 될 때 우리는 그 어떤 것도 보이지 않으며 가장 작은 행사가 우리의 삶을 돌이킬 수 없게 바꿀 수 있음을 상기시킵니다. 청년이 쓴 책을 검토하라는 요청은 가브리엘이 자신의 힘을 찾고 앞으로 나아갈 힘을 찾는 데 도움이되는 인생을 변화시키는 사건으로 변합니다. <br /> <br /> 대부분의 사람들이 이 영화를 피하십시오. 평범한 미국인들이 아마도 \"로빈 윌리엄스가 진지한 역할을합니까? 그 전에는 효과가 없었습니다!\"라고 생각할뿐입니다. 이 영화에 기회를주세요! 로빈 윌리엄스는 우리 모두가 더 나은 사람이되기 위해 찾아 내야 할 어둠에 닿습니다. 그의 영화 한 시간 사진처럼 그는 배우로 발걸음을 내딛고 또 다른 고급 예술 작품을 만들었습니다. <br /> <br /> 오, 그리고 내가 잊어 버리기 전에 나는 제시가 모든 장면을 훔치는 Bobby Cannavale을 믿습니다. 1940 년대 최고의 인물 모습과 스크린 존재. 이것은 그가 지금 자신의 영화를 실을 수 있다는 의견을 해킹 한 것입니다 !! <br /> <br /> S ~ '"
   ]
  },
  {
   "cell_type": "code",
   "execution_count": 4,
   "metadata": {},
   "outputs": [
    {
     "data": {
      "text/plain": [
       "-4.0"
      ]
     },
     "execution_count": 4,
     "metadata": {},
     "output_type": "execute_result"
    }
   ],
   "source": [
    "neg_review=(glob.glob(r\"데이터\\aclImdb\\train\\neg\\\\*.txt\"))[20]\n",
    "\n",
    "\n",
    "f = open(neg_review, 'r')\n",
    "lines2 = f.readlines()[0]\n",
    "f.close()\n",
    "\n",
    "afinn.score(lines2)"
   ]
  },
  {
   "cell_type": "code",
   "execution_count": 5,
   "metadata": {},
   "outputs": [
    {
     "data": {
      "text/plain": [
       "\"The characters are unlikeable and the script is awful. It's a waste of the talents of Deneuve and Auteuil.\""
      ]
     },
     "execution_count": 5,
     "metadata": {},
     "output_type": "execute_result"
    }
   ],
   "source": [
    "lines2"
   ]
  },
  {
   "cell_type": "markdown",
   "metadata": {},
   "source": [
    "\"캐릭터는 마음에 들지 않으며 대본은 끔찍합니다. Deneuve와 Auteuil의 재능을 낭비합니다.\""
   ]
  },
  {
   "cell_type": "code",
   "execution_count": 19,
   "metadata": {},
   "outputs": [
    {
     "data": {
      "text/plain": [
       "positive        10\n",
       "negative         6\n",
       "fear             6\n",
       "sadness          5\n",
       "trust            5\n",
       "anger            3\n",
       "joy              3\n",
       "surprise         3\n",
       "anticipation     3\n",
       "disgust          1\n",
       "dtype: int64"
      ]
     },
     "execution_count": 19,
     "metadata": {},
     "output_type": "execute_result"
    }
   ],
   "source": [
    "#EmoLex 감성 사전 이용 \n",
    "NRC=pd.read_csv(r'데이터\\\\nrc.txt',engine=\"python\",header=None,sep=\"\\t\")\n",
    "\n",
    "NRC=NRC[(NRC != 0).all(1)] #감성어와 감성표현이 유의미한 라벨들만 추출\n",
    "\n",
    "NRC=NRC.reset_index(drop=True) #감성어와 감성표현이 유의미한 라벨들만 추출\n",
    "\n",
    "tokenizer = RegexpTokenizer('[\\w]+')\n",
    "\n",
    "stop_words = stopwords.words('english')\n",
    "\n",
    "p_stemmer = PorterStemmer()\n",
    "\n",
    "raw = lines1.lower()\n",
    "tokens = tokenizer.tokenize(raw)\n",
    "stopped_tokens = [i for i in tokens if not i in stop_words]\n",
    "\n",
    "\n",
    "match_words = [x for x in stopped_tokens if x in list(NRC[0])]\n",
    "\n",
    "\n",
    "emotion=[]\n",
    "for i in match_words:\n",
    "    temp=list(NRC.iloc[np.where(NRC[0] == i)[0],1])\n",
    "    for j in temp:\n",
    "        emotion.append(j)\n",
    "\n",
    "sentiment_result1=pd.Series(emotion).value_counts()\n",
    "\n",
    "sentiment_result1"
   ]
  },
  {
   "cell_type": "code",
   "execution_count": 7,
   "metadata": {},
   "outputs": [
    {
     "data": {
      "text/plain": [
       "<matplotlib.axes._subplots.AxesSubplot at 0x27ae2501128>"
      ]
     },
     "execution_count": 7,
     "metadata": {},
     "output_type": "execute_result"
    },
    {
     "data": {
      "image/png": "[encoded data removed]",
      "text/plain": [
       "<Figure size 432x288 with 1 Axes>"
      ]
     },
     "metadata": {
      "needs_background": "light"
     },
     "output_type": "display_data"
    }
   ],
   "source": [
    "sentiment_result1.plot.bar()"
   ]
  },
  {
   "cell_type": "code",
   "execution_count": 25,
   "metadata": {},
   "outputs": [
    {
     "data": {
      "text/plain": [
       "disgust     2\n",
       "negative    2\n",
       "anger       1\n",
       "fear        1\n",
       "sadness     1\n",
       "positive    1\n",
       "dtype: int64"
      ]
     },
     "execution_count": 25,
     "metadata": {},
     "output_type": "execute_result"
    }
   ],
   "source": [
    "raw = lines2.lower()\n",
    "tokens = tokenizer.tokenize(raw)\n",
    "stopped_tokens = [i for i in tokens if not i in stop_words]\n",
    "\n",
    "\n",
    "\n",
    "match_words = [x for x in stopped_tokens if x in list(NRC[0])]\n",
    "\n",
    "\n",
    "emotion=[]\n",
    "for i in match_words:\n",
    "    temp=list(NRC.iloc[np.where(NRC[0] == i)[0],1])\n",
    "    for j in temp:\n",
    "        emotion.append(j)\n",
    "\n",
    "\n",
    "\n",
    "\n",
    "\n",
    "sentiment_result2=pd.Series(emotion).value_counts()\n",
    "sentiment_result2"
   ]
  },
  {
   "cell_type": "code",
   "execution_count": 26,
   "metadata": {},
   "outputs": [
    {
     "data": {
      "text/plain": [
       "<matplotlib.axes._subplots.AxesSubplot at 0x1edbd081ef0>"
      ]
     },
     "execution_count": 26,
     "metadata": {},
     "output_type": "execute_result"
    },
    {
     "data": {
      "image/png": "[encoded data removed]",
      "text/plain": [
       "<Figure size 432x288 with 1 Axes>"
      ]
     },
     "metadata": {
      "needs_background": "light"
     },
     "output_type": "display_data"
    }
   ],
   "source": [
    "sentiment_result2.plot.bar()"
   ]
  },
  {
   "cell_type": "markdown",
   "metadata": {},
   "source": [
    "## 4.2 지도 기계학습기반 감성 분석"
   ]
  },
  {
   "cell_type": "code",
   "execution_count": 27,
   "metadata": {},
   "outputs": [],
   "source": [
    "import pandas as pd\n",
    "import glob\n",
    "from afinn import Afinn\n",
    "from nltk.corpus import stopwords \n",
    "import numpy as np\n",
    "from sklearn.feature_extraction.text import TfidfVectorizer"
   ]
  },
  {
   "cell_type": "code",
   "execution_count": 28,
   "metadata": {},
   "outputs": [],
   "source": [
    "pos_review=(glob.glob(r\"데이터\\aclImdb\\train\\pos\\\\*.txt\"))\n",
    "\n",
    "lines_pos=[]\n",
    "for i in pos_review:\n",
    "    try:\n",
    "        f = open(i, 'r')\n",
    "        temp = f.readlines()[0]\n",
    "        lines_pos.append(temp)\n",
    "        f.close()\n",
    "    except Exception as e:\n",
    "        continue\n",
    "        \n",
    "\n",
    "neg_review=(glob.glob(r\"데이터\\aclImdb\\train\\neg\\\\*.txt\"))\n",
    "\n",
    "lines_neg=[]\n",
    "for i in neg_review:\n",
    "    try:\n",
    "        f = open(i, 'r')\n",
    "        temp = f.readlines()[0]\n",
    "        lines_neg.append(temp)\n",
    "        f.close()\n",
    "    except Exception as e:\n",
    "        continue\n",
    "        \n",
    "        \n",
    "total_text=lines_pos+lines_neg #긍정, 부정 리뷰 훈련세트를 합침\n",
    "\n",
    "x = np.array([\"pos\", \"neg\"])\n",
    "class_Index=np.repeat(x, [len(lines_pos), len(lines_neg)], axis=0)\n",
    "\n",
    "\n",
    "top_words = stopwords.words('english')\n",
    "\n",
    "vect = TfidfVectorizer(stop_words=stop_words).fit(total_text)\n",
    "\n",
    "X_train_vectorized = vect.transform(total_text)\n",
    "\n",
    "X_train_vectorized.index = class_Index"
   ]
  },
  {
   "cell_type": "code",
   "execution_count": 30,
   "metadata": {},
   "outputs": [
    {
     "name": "stderr",
     "output_type": "stream",
     "text": [
      "C:\\Users\\SOJINSOO\\Anaconda3\\lib\\site-packages\\sklearn\\linear_model\\logistic.py:433: FutureWarning: Default solver will be changed to 'lbfgs' in 0.22. Specify a solver to silence this warning.\n",
      "  FutureWarning)\n"
     ]
    },
    {
     "data": {
      "text/plain": [
       "array(['pos'], dtype='<U3')"
      ]
     },
     "execution_count": 30,
     "metadata": {},
     "output_type": "execute_result"
    }
   ],
   "source": [
    "from sklearn.linear_model import LogisticRegression,SGDClassifier\n",
    "\n",
    "model = LogisticRegression()\n",
    "model.fit(X_train_vectorized, class_Index)\n",
    "\n",
    "\n",
    "pos_review_test=(glob.glob(r\"데이터\\aclImdb\\test\\pos\\\\*.txt\"))[10]\n",
    "\n",
    "\n",
    "test=[]\n",
    "f = open(pos_review_test, 'r')\n",
    "test.append(f.readlines()[0])\n",
    "f.close()\n",
    "\n",
    "\n",
    "predictions = model.predict(vect.transform(test))\n",
    "predictions"
   ]
  },
  {
   "cell_type": "code",
   "execution_count": 32,
   "metadata": {},
   "outputs": [
    {
     "data": {
      "text/plain": [
       "[\"I loved this movie from beginning to end.I am a musician and i let drugs get in the way of my some of the things i used to love(skateboarding,drawing) but my friends were always there for me.Music was like my rehab,life support,and my drug.It changed my life.I can totally relate to this movie and i wish there was more i could say.This movie left me speechless to be honest.I just saw it on the Ifc channel.I usually hate having satellite but this was a perk of having satellite.The ifc channel shows some really great movies and without it I never would have found this movie.Im not a big fan of the international films because i find that a lot of the don't do a very good job on translating lines.I mean the obvious language barrier leaves you to just believe thats what they are saying but its not that big of a deal i guess.I almost never got to see this AMAZING movie.Good thing i stayed up for it instead of going to bed..well earlier than usual.lol.I hope you all enjoy the hell of this movie and Love this movie just as much as i did.I wish i could type this all in caps but its again the rules i guess thats shouting but it would really show my excitement for the film.I Give It Three Thumbs Way Up!<br /><br />This Movie Blew ME AWAY!\"]"
      ]
     },
     "execution_count": 32,
     "metadata": {},
     "output_type": "execute_result"
    }
   ],
   "source": [
    "test"
   ]
  },
  {
   "cell_type": "markdown",
   "metadata": {},
   "source": [
    "\"나는이 영화를 처음부터 끝까지 사랑했다. 나는 음악가이고 나는 내가 사랑했던 것 (스케이트 보드, 그림)의 일부를 방해하는 약물을 보냈지 만 내 친구는 항상 나를 위해 있었다. 재활, 생활 지원 및 내 약물. 그것은 내 인생을 바꿨습니다. 나는이 영화와 완전히 관련이 있고 말할 수있는 더 많은 것이 있었으면 좋겠다.이 영화는 나에게 솔직하게 말문이 남지 않았습니다. ifc 채널은 정말 멋진 영화를 보여주지 않으면이 영화를 찾지 못했을 것입니다. 국제 영화의 큰 팬은 아닙니다. 선을 번역하는 데있어 아주 좋은 일을하지 마십시오. 분명한 언어 장벽은 그들이하는 말을 믿지만 그 정도가 아니라고 생각합니다.이 놀라운 영화를 보지 못했을 것입니다. 나는 잠자리에 들지 않고 그것을 위해 머물렀다. 평소보다 일찍. lol. 나는 당신 이이 mov의 지옥을 즐기기를 바랍니다. 즉, 내가 한 것처럼이 영화를 좋아한다. 나는 이것을 모두 대문자로 입력 할 수 있기를 바란다. 그러나 다시 한 번 나는 그 규칙이 소리 지르는 것을 추측하지만 그것은 영화에 대한 나의 흥분을 보여줄 것이다. br /> <br />이 영화는 나를 날려 버렸습니다!"
   ]
  },
  {
   "cell_type": "code",
   "execution_count": 34,
   "metadata": {},
   "outputs": [
    {
     "data": {
      "text/plain": [
       "array(['neg'], dtype='<U3')"
      ]
     },
     "execution_count": 34,
     "metadata": {},
     "output_type": "execute_result"
    }
   ],
   "source": [
    "neg_review_test=(glob.glob(r\"데이터\\aclImdb\\test\\neg\\\\*.txt\"))[20]\n",
    "\n",
    "\n",
    "test2=[]\n",
    "f = open(neg_review_test, 'r')\n",
    "test2.append(f.readlines()[0])\n",
    "f.close()\n",
    "\n",
    "predictions = model.predict(vect.transform(test2))\n",
    "predictions"
   ]
  },
  {
   "cell_type": "code",
   "execution_count": 35,
   "metadata": {
    "scrolled": true
   },
   "outputs": [
    {
     "data": {
      "text/plain": [
       "['The best thing about \"The Prey\" is the tag line...\"It\\'s not human and it\\'s got an axe\"! The movie itself is a padded stinkaroo....endless insect and wildlife shots make the viewer wanna die! No slasher fan will like this garbage.....Watch \"Friday the 13th\" again and burn any copy of this film you find! <br /><br />It also rates as one of the 25 worst films ever made!']"
      ]
     },
     "execution_count": 35,
     "metadata": {},
     "output_type": "execute_result"
    }
   ],
   "source": [
    "test2"
   ]
  },
  {
   "cell_type": "markdown",
   "metadata": {},
   "source": [
    "\"The Prey\"의 가장 좋은 점은 태그 라인입니다. \"\"인간이 아니고 도끼를 가지고 있습니다 \"! 영화 자체는 패딩 처리 된 stinkaroo입니다. ... 끝없는 곤충과 야생 동물 촬영으로 시청자가 죽고 싶어합니다! 슬래셔 팬은이 쓰레기를 좋아하지 않을 것입니다 ..... \"13 일 금요일\"을 다시보고이 영화의 사본을 태우십시오! <br /> <br /> 또한 25 개의 최악의 영화 중 하나로 평가되었습니다!"
   ]
  }
 ],
 "metadata": {
  "kernelspec": {
   "display_name": "Python 3",
   "language": "python",
   "name": "python3"
  },
  "language_info": {
   "codemirror_mode": {
    "name": "ipython",
    "version": 3
   },
   "file_extension": ".py",
   "mimetype": "text/x-python",
   "name": "python",
   "nbconvert_exporter": "python",
   "pygments_lexer": "ipython3",
   "version": "3.7.3"
  }
 },
 "nbformat": 4,
 "nbformat_minor": 2
}
